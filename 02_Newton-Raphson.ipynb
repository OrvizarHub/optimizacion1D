{
 "cells": [
  {
   "cell_type": "code",
   "execution_count": 1,
   "metadata": {},
   "outputs": [],
   "source": [
    "%matplotlib inline\n",
    "\n",
    "import matplotlib.pyplot as plt\n",
    "import numpy as np\n",
    "import sympy"
   ]
  },
  {
   "cell_type": "markdown",
   "metadata": {},
   "source": [
    "# Problema \n",
    "\n",
    "El precio de un sistema de energía solar es dado por:\n",
    "\n",
    "$$U=35A +208V$$\n",
    "\n",
    "dónde $A$ es la superficie del collector y $V$ es el volumen de la bateria que almacena la energía. Debido a consideraciones de balance de energía, se debe considerar que: \n",
    "\n",
    "$$A\\left(290 - \\frac{100}{V}\\right) = 5833.3$$\n",
    "\n",
    "Adicionalmente, el volumen de la batería $V$ está relacionado a la temperatura de operación del sistema $T$, y está configurado tal que:\n",
    "\n",
    "$$V=\\frac{50}{T-20}$$\n",
    "\n",
    "Los proveedores de batería únicamente proveen modelos que trabajan entre 40 y 90 grados centígrados. Se desea optmizar el costo $U$ considerando todas las limitaciones presentadas.\n",
    "\n",
    "## Solución\n",
    "\n",
    "Juntando todas las expresiones y expresando en términos de $T$, tenemos la siguiente ecuación:\n",
    "\n",
    "$$U=\\frac{204165.5}{330 - 2T} + \\frac{10400}{T - 20}$$\n",
    "\n",
    "Puesto que la temperatura $T$ está limitada al rango $[40, 90]$, la función será ploteada en este rango."
   ]
  },
  {
   "cell_type": "code",
   "execution_count": 2,
   "metadata": {},
   "outputs": [],
   "source": [
    "def plotPuntos(a,b):\n",
    "    T = np.linspace(a, b, 100)\n",
    "    U = (204165.5)/(330 - 2*T) + (10400)/(T - 20)\n",
    "\n",
    "    return T, U"
   ]
  },
  {
   "cell_type": "code",
   "execution_count": 3,
   "metadata": {},
   "outputs": [],
   "source": [
    "def GraficarFuncionObjetivo():\n",
    "    a, b = 40, 90\n",
    "    T, U = plotPuntos(a, b)\n",
    "    \n",
    "    plt.plot(T, U, 'b')\n",
    "    plt.plot(55.08, 1225.17, 'ko')\n",
    "    plt.annotate(r'$55.08, 1225.17$', (55.08, 1225.17), (50, 1250))\n",
    "    \n",
    "    plt.xlabel('Temperatura')\n",
    "    plt.ylabel('Costo')\n",
    "    plt.grid()\n",
    "    plt.show()"
   ]
  },
  {
   "cell_type": "code",
   "execution_count": 4,
   "metadata": {},
   "outputs": [
    {
     "data": {
      "image/png": "[encoded data removed]",
      "text/plain": [
       "<Figure size 432x288 with 1 Axes>"
      ]
     },
     "metadata": {
      "needs_background": "light"
     },
     "output_type": "display_data"
    }
   ],
   "source": [
    "GraficarFuncionObjetivo()"
   ]
  },
  {
   "cell_type": "markdown",
   "metadata": {},
   "source": [
    "# Cálculo del gradiente\n",
    "\n",
    "Puesto que en estos métodos se necesita calcular la derivada, se utilizará python para derivar la ecuación: \n",
    "\n",
    "$$U=\\frac{204165.5}{330 - 2T} + \\frac{10400}{T - 20}$$\n",
    "\n",
    "Entonces la primera y segunda derivada se puede calcular de la siguiente manera:"
   ]
  },
  {
   "cell_type": "code",
   "execution_count": 5,
   "metadata": {},
   "outputs": [],
   "source": [
    "def CalcularGradiente():\n",
    "    T = sympy.Symbol('T')\n",
    "    U = (204165.5)/(330 - 2*T) + (10400)/(T - 20)\n",
    "    \n",
    "    d1U = sympy.diff(U)\n",
    "    d2U = sympy.diff(d1U)\n",
    "    \n",
    "    print(U)\n",
    "    print(d1U)\n",
    "    print(d2U)"
   ]
  },
  {
   "cell_type": "code",
   "execution_count": 6,
   "metadata": {},
   "outputs": [
    {
     "name": "stdout",
     "output_type": "stream",
     "text": [
      "10400/(T - 20) + 204165.5/(330 - 2*T)\n",
      "-10400/(T - 20)**2 + 408331.0/(330 - 2*T)**2\n",
      "20800/(T - 20)**3 + 1633324.0/(330 - 2*T)**3\n"
     ]
    }
   ],
   "source": [
    "CalcularGradiente()"
   ]
  },
  {
   "cell_type": "code",
   "execution_count": 7,
   "metadata": {},
   "outputs": [],
   "source": [
    "def U(T):\n",
    "    return 10400/(T - 20) + 204165.5/(330 - 2*T)"
   ]
  },
  {
   "cell_type": "code",
   "execution_count": 8,
   "metadata": {},
   "outputs": [
    {
     "data": {
      "text/plain": [
       "1225.1656408350887"
      ]
     },
     "execution_count": 8,
     "metadata": {},
     "output_type": "execute_result"
    }
   ],
   "source": [
    "U(55.08)"
   ]
  },
  {
   "cell_type": "code",
   "execution_count": 9,
   "metadata": {},
   "outputs": [],
   "source": [
    "def d1U(T):\n",
    "    return -10400/(T - 20)**2 + 408331.0/(330 - 2*T)**2"
   ]
  },
  {
   "cell_type": "code",
   "execution_count": 10,
   "metadata": {},
   "outputs": [
    {
     "data": {
      "text/plain": [
       "-0.0022423688924249063"
      ]
     },
     "execution_count": 10,
     "metadata": {},
     "output_type": "execute_result"
    }
   ],
   "source": [
    "d1U(55.08)"
   ]
  },
  {
   "cell_type": "code",
   "execution_count": 11,
   "metadata": {},
   "outputs": [],
   "source": [
    "def d2U(T):\n",
    "    return 20800/(T - 20)**3 + 1633324.0/(330 - 2*T)**3"
   ]
  },
  {
   "cell_type": "code",
   "execution_count": 12,
   "metadata": {},
   "outputs": [
    {
     "data": {
      "text/plain": [
       "0.6355474551218123"
      ]
     },
     "execution_count": 12,
     "metadata": {},
     "output_type": "execute_result"
    }
   ],
   "source": [
    "d2U(55.08)"
   ]
  },
  {
   "cell_type": "markdown",
   "metadata": {},
   "source": [
    "# Algoritmo del método de Newton Raphson\n",
    "\n",
    "* **Paso 1:** Definir: $a$, $b$, $x$, y $\\epsilon$.\n",
    "* **Paso 2:** Calcular: $f'(x)$ y $f''(x)$\n",
    "    * **Almacenar** $x_{prev} = x$\n",
    "    * **Actualizar** $x=x_{prev}-\\frac{f'(x)}{f''(x)}$.\n",
    "    * **if** $\\lvert x-x_{prev}\\lvert > \\epsilon$.\n",
    "        * **then** goto Paso 2.\n",
    "        * **else** goto Paso 3.\n",
    "* **Paso 3:** Convergió: Imprimir $x$ y $f(x)$."
   ]
  },
  {
   "cell_type": "code",
   "execution_count": 14,
   "metadata": {},
   "outputs": [],
   "source": [
    "def NewtonRaphson():\n",
    "    a, b = 40, 90\n",
    "    x = 90\n",
    "    epsilon = 0.001\n",
    "    \n",
    "    cont = 0\n",
    "    registro = []\n",
    "    \n",
    "    while True:\n",
    "        # Calculo de f'(x) y f''(x)\n",
    "        d1U_x = d1U(x)\n",
    "        d2U_x = d2U(x)\n",
    "        \n",
    "        xprev = x\n",
    "        x = xprev - d1U_x/d2U_x\n",
    "        \n",
    "        U_x = U(x)\n",
    "        \n",
    "        cont = cont + 1\n",
    "        registro.append([cont, x, U_x])\n",
    "        \n",
    "        print(\"It: {:02d} - Temp: {:.10f} - Costo: {:.10f}\".format(cont, x, U_x))\n",
    "        \n",
    "        if(np.abs(x - xprev) <= epsilon):\n",
    "            print(\"----------------------------------------------------------------\")\n",
    "            print(\"It: {:02d} - Temp: {:.10f} - Costo: {:.10f}\".format(cont, x, U_x))\n",
    "            break\n",
    "        \n",
    "    return registro"
   ]
  },
  {
   "cell_type": "code",
   "execution_count": 15,
   "metadata": {},
   "outputs": [
    {
     "name": "stdout",
     "output_type": "stream",
     "text": [
      "It: 01 - Temp: 60.5730595536 - Costo: 1233.8795849955\n",
      "It: 02 - Temp: 54.3709476178 - Costo: 1225.3292441409\n",
      "It: 03 - Temp: 55.0684488875 - Costo: 1225.1657091464\n",
      "It: 04 - Temp: 55.0835219881 - Costo: 1225.1656368790\n",
      "It: 05 - Temp: 55.0835286102 - Costo: 1225.1656368790\n",
      "----------------------------------------------------------------\n",
      "It: 05 - Temp: 55.0835286102 - Costo: 1225.1656368790\n"
     ]
    }
   ],
   "source": [
    "reg = NewtonRaphson()"
   ]
  },
  {
   "cell_type": "markdown",
   "metadata": {},
   "source": [
    "# Evaluación del método\n",
    "\n",
    "Vamos a plotear el proceso de evolución que el algoritmo siguió para encontrar el mínimo."
   ]
  },
  {
   "cell_type": "code",
   "execution_count": 16,
   "metadata": {},
   "outputs": [],
   "source": [
    "def evaluacion(reg):\n",
    "    reg = np.array(reg)\n",
    "    fig, axs = plt.subplots(1, 2, figsize=(15, 6))\n",
    "    \n",
    "    fig.suptitle('Analisis de convergencia')\n",
    "    \n",
    "    axs[0].axhline(55.08, color='k', linewidth=3, linestyle='--')\n",
    "    axs[0].plot(reg[:, 0], reg[:, 1], linewidth=4)\n",
    "    axs[0].set_xlabel('Iteraciones')\n",
    "    axs[0].set_ylabel('Temperatura')\n",
    "    axs[0].grid()\n",
    "    axs[0].set_xlim([0, 15])\n",
    "    \n",
    "    axs[1].axhline(1225.17, color='k', linewidth=3, linestyle='--')\n",
    "    axs[1].plot(reg[:, 0], reg[:, 2], linewidth=4)\n",
    "    axs[1].set_xlabel('Iteraciones')\n",
    "    axs[1].set_ylabel('Costo')\n",
    "    axs[1].grid()\n",
    "    axs[1].set_xlim([0, 15])\n",
    "    \n",
    "    plt.show()"
   ]
  },
  {
   "cell_type": "code",
   "execution_count": 17,
   "metadata": {},
   "outputs": [
    {
     "data": {
      "image/png": "[encoded data removed]",
      "text/plain": [
       "<Figure size 1080x432 with 2 Axes>"
      ]
     },
     "metadata": {
      "needs_background": "light"
     },
     "output_type": "display_data"
    }
   ],
   "source": [
    "evaluacion(reg)"
   ]
  },
  {
   "cell_type": "code",
   "execution_count": null,
   "metadata": {},
   "outputs": [],
   "source": []
  }
 ],
 "metadata": {
  "kernelspec": {
   "display_name": "Python 3",
   "language": "python",
   "name": "python3"
  },
  "language_info": {
   "codemirror_mode": {
    "name": "ipython",
    "version": 3
   },
   "file_extension": ".py",
   "mimetype": "text/x-python",
   "name": "python",
   "nbconvert_exporter": "python",
   "pygments_lexer": "ipython3",
   "version": "3.7.6"
  }
 },
 "nbformat": 4,
 "nbformat_minor": 4
}
