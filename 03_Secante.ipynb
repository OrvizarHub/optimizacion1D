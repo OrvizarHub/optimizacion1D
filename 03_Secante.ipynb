{
 "cells": [
  {
   "cell_type": "code",
   "execution_count": 1,
   "metadata": {},
   "outputs": [],
   "source": [
    "%matplotlib inline\n",
    "\n",
    "import matplotlib.pyplot as plt\n",
    "import numpy as np\n",
    "import sympy"
   ]
  },
  {
   "cell_type": "markdown",
   "metadata": {},
   "source": [
    "# Problema \n",
    "\n",
    "El precio de un sistema de energía solar es dado por:\n",
    "\n",
    "$$U=35A +208V$$\n",
    "\n",
    "dónde $A$ es la superficie del collector y $V$ es el volumen de la bateria que almacena la energía. Debido a consideraciones de balance de energía, se debe considerar que: \n",
    "\n",
    "$$A\\left(290 - \\frac{100}{V}\\right) = 5833.3$$\n",
    "\n",
    "Adicionalmente, el volumen de la batería $V$ está relacionado a la temperatura de operación del sistema $T$, y está configurado tal que:\n",
    "\n",
    "$$V=\\frac{50}{T-20}$$\n",
    "\n",
    "Los proveedores de batería únicamente proveen modelos que trabajan entre 40 y 90 grados centígrados. Se desea optmizar el costo $U$ considerando todas las limitaciones presentadas.\n",
    "\n",
    "## Solución\n",
    "\n",
    "Juntando todas las expresiones y expresando en términos de $T$, tenemos la siguiente ecuación:\n",
    "\n",
    "$$U=\\frac{204165.5}{330 - 2T} + \\frac{10400}{T - 20}$$\n",
    "\n",
    "Puesto que la temperatura $T$ está limitada al rango $[40, 90]$, la función será ploteada en este rango."
   ]
  },
  {
   "cell_type": "code",
   "execution_count": 2,
   "metadata": {},
   "outputs": [],
   "source": [
    "def GraficarFuncionObjetivo():\n",
    "    a, b = 40, 90\n",
    "    \n",
    "    T = np.linspace(a, b, 100)\n",
    "    U = (204165.5)/(330 - 2*T) + (10400)/(T - 20)\n",
    "\n",
    "    plt.figure(figsize=(6, 3))\n",
    "    plt.plot(T, U, 'b')\n",
    "    plt.plot(55.08, 1225.17, 'ko')\n",
    "    plt.annotate(r'$55.08, 1225.17$', (55.08, 1225.17), (50, 1250))\n",
    "\n",
    "    plt.xlabel(\"Temperatura\")\n",
    "    plt.ylabel(\"Costo\")\n",
    "    plt.grid()\n",
    "    plt.show()\n",
    "    \n",
    "    return None"
   ]
  },
  {
   "cell_type": "code",
   "execution_count": 3,
   "metadata": {},
   "outputs": [
    {
     "data": {
      "image/png": "[encoded data removed]",
      "text/plain": [
       "<Figure size 432x216 with 1 Axes>"
      ]
     },
     "metadata": {
      "needs_background": "light"
     },
     "output_type": "display_data"
    }
   ],
   "source": [
    "GraficarFuncionObjetivo()"
   ]
  },
  {
   "cell_type": "markdown",
   "metadata": {},
   "source": [
    "# Cálculo del gradiente\n",
    "\n",
    "Puesto que en estos métodos se necesita calcular la derivada, se utilizará python para derivar la ecuación: \n",
    "\n",
    "$$U=\\frac{204165.5}{330 - 2T} + \\frac{10400}{T - 20}$$\n",
    "\n",
    "Entonces la primera y segunda derivada se puede calcular de la siguiente manera:"
   ]
  },
  {
   "cell_type": "code",
   "execution_count": 4,
   "metadata": {},
   "outputs": [],
   "source": [
    "def CalcularGradiente():\n",
    "    T = sympy.Symbol('T')\n",
    "    fU = (204165.5)/(330-2*T) + (10400)/(T-20)\n",
    "\n",
    "    d1fU = sympy.diff(fU)\n",
    "\n",
    "    print(fU)\n",
    "    print(d1fU)\n",
    "\n",
    "    return None"
   ]
  },
  {
   "cell_type": "code",
   "execution_count": 5,
   "metadata": {},
   "outputs": [
    {
     "name": "stdout",
     "output_type": "stream",
     "text": [
      "10400/(T - 20) + 204165.5/(330 - 2*T)\n",
      "-10400/(T - 20)**2 + 408331.0/(330 - 2*T)**2\n"
     ]
    }
   ],
   "source": [
    "CalcularGradiente()"
   ]
  },
  {
   "cell_type": "code",
   "execution_count": 6,
   "metadata": {},
   "outputs": [],
   "source": [
    "# Funcion objetivo\n",
    "def U(T):\n",
    "    return 10400/(T - 20) + 204165.5/(330 - 2*T)"
   ]
  },
  {
   "cell_type": "code",
   "execution_count": 7,
   "metadata": {},
   "outputs": [
    {
     "data": {
      "text/plain": [
       "1225.1656408350887"
      ]
     },
     "execution_count": 7,
     "metadata": {},
     "output_type": "execute_result"
    }
   ],
   "source": [
    "U(55.08)"
   ]
  },
  {
   "cell_type": "code",
   "execution_count": 8,
   "metadata": {},
   "outputs": [],
   "source": [
    "# Primera derivada\n",
    "def d1U(T):\n",
    "    return -10400/(T - 20)**2 + 408331.0/(-2*T + 330)**2"
   ]
  },
  {
   "cell_type": "code",
   "execution_count": 9,
   "metadata": {},
   "outputs": [
    {
     "data": {
      "text/plain": [
       "-0.0022423688924249063"
      ]
     },
     "execution_count": 9,
     "metadata": {},
     "output_type": "execute_result"
    }
   ],
   "source": [
    "d1U(55.08)"
   ]
  },
  {
   "cell_type": "markdown",
   "metadata": {},
   "source": [
    "# Algoritmo del método de la Secante\n",
    "\n",
    "* **Paso 1:** Definir: $a$, $b$ y $\\epsilon$\n",
    "* **Paso 2:** Calcular: $\\alpha = x_2 - \\frac{f'(x_2)}{(f'(x_2)-f'(x_1))/(x_2-x_1)}$\n",
    "    * **if** $f'(\\alpha) > 0 $\n",
    "        * **then** $b=\\alpha$\n",
    "        * **else** $a=\\alpha$\n",
    "    * **if** $\\lvert f'(\\alpha)\\lvert > \\epsilon $\n",
    "        * **then** goto Paso 2\n",
    "        * **else** goto Paso 3\n",
    "* **Paso 3:** Convergió: Imprimir $\\alpha$ y $f(\\alpha)$."
   ]
  },
  {
   "cell_type": "code",
   "execution_count": 14,
   "metadata": {},
   "outputs": [],
   "source": [
    "def Secante():\n",
    "    a, b = 40, 90\n",
    "    epsilon = 0.01\n",
    "    \n",
    "    cont = 0\n",
    "    registro = []\n",
    "    \n",
    "    while True:\n",
    "        # calcular f'(a)\n",
    "        dU_a = d1U(a)\n",
    "        \n",
    "        # calcular f'(b\n",
    "        dU_b= d1U(b)\n",
    "        \n",
    "        # calcular alpha\n",
    "        alpha = b - dU_b / ((dU_b - dU_a)/(b - a))\n",
    "        \n",
    "        dU_alpha = d1U(alpha)\n",
    "        \n",
    "        if dU_alpha > 0:\n",
    "            b = alpha\n",
    "        else:\n",
    "            a = alpha\n",
    "            \n",
    "        U_alpha = U(alpha)\n",
    "        \n",
    "        cont = cont + 1\n",
    "        \n",
    "        registro.append([cont, alpha, U_alpha])\n",
    "        print(\"It: {:02d} - Temp: {:.10f} - Costo: {:.10f}\".format(cont, alpha, U_alpha))\n",
    "        \n",
    "        if np.abs(dU_alpha) <= epsilon:\n",
    "            print(\"------------------------------------------------------------------------\")\n",
    "            print(\"It: {:02d} - Temp: {:.10f} - Costo: {:.10f}\".format(cont, alpha, U_alpha))\n",
    "            break\n",
    "            \n",
    "    return registro"
   ]
  },
  {
   "cell_type": "code",
   "execution_count": 15,
   "metadata": {},
   "outputs": [
    {
     "name": "stdout",
     "output_type": "stream",
     "text": [
      "It: 01 - Temp: 67.4238416410 - Costo: 1265.4843547060\n",
      "It: 02 - Temp: 60.8827888776 - Costo: 1234.8456727508\n",
      "It: 03 - Temp: 57.9389356280 - Costo: 1227.6249518474\n",
      "It: 04 - Temp: 56.5132183316 - Costo: 1225.7978324621\n",
      "It: 05 - Temp: 55.8045366165 - Costo: 1225.3285410968\n",
      "It: 06 - Temp: 55.4483617340 - Costo: 1225.2076290459\n",
      "It: 07 - Temp: 55.2684366108 - Costo: 1225.1764608953\n",
      "It: 08 - Temp: 55.1773211286 - Costo: 1225.1684267004\n",
      "It: 09 - Temp: 55.1311231215 - Costo: 1225.1663559004\n",
      "It: 10 - Temp: 55.1076851354 - Costo: 1225.1658221870\n",
      "It: 11 - Temp: 55.0957904902 - Costo: 1225.1656846363\n",
      "------------------------------------------------------------------------\n",
      "It: 11 - Temp: 55.0957904902 - Costo: 1225.1656846363\n"
     ]
    }
   ],
   "source": [
    "reg = Secante()"
   ]
  },
  {
   "cell_type": "markdown",
   "metadata": {},
   "source": [
    "# Evaluación del método\n",
    "\n",
    "Vamos a plotear el proceso de evolución que el algoritmo siguió para encontrar el mínimo."
   ]
  },
  {
   "cell_type": "code",
   "execution_count": 16,
   "metadata": {},
   "outputs": [],
   "source": [
    "def Evaluacion(reg):\n",
    "    reg1 = np.array(reg)\n",
    "    fig, axs = plt.subplots(1,2, figsize=(15, 4))\n",
    "\n",
    "    fig.suptitle('Convergencia')\n",
    "\n",
    "    axs[0].axhline(55.08, color='k' , linewidth=3, linestyle='--')\n",
    "    axs[0].plot(reg1[:, 0], reg1[:,1], linewidth=4)\n",
    "    axs[0].set_xlabel('Iteraciones')\n",
    "    axs[0].set_ylabel('Temperatura')\n",
    "    axs[0].grid()\n",
    "    axs[0].set_xlim([0, 15])\n",
    "\n",
    "    axs[1].axhline(1225.17, color='k' , linewidth=3, linestyle='--')\n",
    "    axs[1].plot(reg1[:, 0], reg1[:,2], linewidth=4)\n",
    "    axs[1].set_xlabel('Iteraciones')\n",
    "    axs[1].set_ylabel('Costo')\n",
    "    axs[1].grid()\n",
    "    axs[1].set_xlim([0, 15])\n",
    "\n",
    "    plt.show()\n",
    "    \n",
    "    return None"
   ]
  },
  {
   "cell_type": "code",
   "execution_count": 17,
   "metadata": {},
   "outputs": [
    {
     "data": {
      "image/png": "[encoded data removed]",
      "text/plain": [
       "<Figure size 1080x288 with 2 Axes>"
      ]
     },
     "metadata": {
      "needs_background": "light"
     },
     "output_type": "display_data"
    }
   ],
   "source": [
    "Evaluacion(reg)"
   ]
  },
  {
   "cell_type": "code",
   "execution_count": null,
   "metadata": {},
   "outputs": [],
   "source": []
  }
 ],
 "metadata": {
  "kernelspec": {
   "display_name": "Python 3",
   "language": "python",
   "name": "python3"
  },
  "language_info": {
   "codemirror_mode": {
    "name": "ipython",
    "version": 3
   },
   "file_extension": ".py",
   "mimetype": "text/x-python",
   "name": "python",
   "nbconvert_exporter": "python",
   "pygments_lexer": "ipython3",
   "version": "3.7.6"
  }
 },
 "nbformat": 4,
 "nbformat_minor": 4
}
