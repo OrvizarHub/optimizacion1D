{
 "cells": [
  {
   "cell_type": "code",
   "execution_count": 1,
   "metadata": {},
   "outputs": [],
   "source": [
    "%matplotlib inline\n",
    "\n",
    "import matplotlib.pyplot as plt\n",
    "import numpy as np"
   ]
  },
  {
   "cell_type": "markdown",
   "metadata": {},
   "source": [
    "# Problema \n",
    "\n",
    "El precio de un sistema de energía solar es dado por:\n",
    "\n",
    "$$U=35A +208V$$\n",
    "\n",
    "dónde $A$ es la superficie del collector y $V$ es el volumen de la bateria que almacena la energía. Debido a consideraciones de balance de energía, se debe considerar que: \n",
    "\n",
    "$$A\\left(290 - \\frac{100}{V}\\right) = 5833.3$$\n",
    "\n",
    "Adicionalmente, el volumen de la batería $V$ está relacionado a la temperatura de operación del sistema $T$, y está configurado tal que:\n",
    "\n",
    "$$V=\\frac{50}{T-20}$$\n",
    "\n",
    "Los proveedores de batería únicamente proveen modelos que trabajan entre 40 y 90 grados centígrados. Se desea optmizar el costo $U$ considerando todas las limitaciones presentadas.\n",
    "\n",
    "## Solución\n",
    "\n",
    "Juntando todas las expresiones y expresando en términos de $T$, tenemos la siguiente ecuación:\n",
    "\n",
    "$$U=\\frac{204165.5}{330 - 2T} + \\frac{10400}{T - 20}$$\n",
    "\n",
    "Puesto que la temperatura $T$ está limitada al rango $[40, 90]$, la función será ploteada en este rango."
   ]
  },
  {
   "cell_type": "code",
   "execution_count": 2,
   "metadata": {},
   "outputs": [],
   "source": [
    "def GraficarFuncionObjetivo():\n",
    "    a,b = 40,90\n",
    "    \n",
    "    T = np.linspace(a, b, 100)\n",
    "    U = (204165.5)/(330 - 2*T) + (10400)/(T - 20)\n",
    "\n",
    "    plt.figure(figsize=(6, 3))\n",
    "    plt.plot(T, U, 'b')\n",
    "    plt.plot(55.08, 1225.17, 'ko')\n",
    "    plt.annotate(r'$55.08, 1225.17$', (55.08, 1225.17), (50, 1250))\n",
    "\n",
    "    plt.xlabel(\"Temperatura\")\n",
    "    plt.ylabel(\"Costo\")\n",
    "    plt.grid()\n",
    "    plt.show()\n",
    "    \n",
    "    return None"
   ]
  },
  {
   "cell_type": "code",
   "execution_count": 3,
   "metadata": {},
   "outputs": [
    {
     "data": {
      "image/png": "[encoded data removed]",
      "text/plain": [
       "<Figure size 432x216 with 1 Axes>"
      ]
     },
     "metadata": {
      "needs_background": "light"
     },
     "output_type": "display_data"
    }
   ],
   "source": [
    "GraficarFuncionObjetivo()"
   ]
  },
  {
   "cell_type": "code",
   "execution_count": 4,
   "metadata": {},
   "outputs": [],
   "source": [
    "def U(T):\n",
    "    return (204165.5)/(330-2*T) + (10400)/(T-20)"
   ]
  },
  {
   "cell_type": "code",
   "execution_count": 5,
   "metadata": {},
   "outputs": [
    {
     "data": {
      "text/plain": [
       "1225.1656408350887"
      ]
     },
     "execution_count": 5,
     "metadata": {},
     "output_type": "execute_result"
    }
   ],
   "source": [
    "U(55.08)"
   ]
  },
  {
   "cell_type": "markdown",
   "metadata": {},
   "source": [
    "# Algoritmo del método de Fibonacci\n",
    "\n",
    "* **Paso 1:** Definir: $n$.\n",
    "* **Paso 2:** Calcular la serie de Fibonacci con $n$ valores. \n",
    "* **Paso 3:** Definir: $a$, $b$, $L$, $k=2$ y $\\epsilon$\n",
    "* **Paso 4:** Calcular: $L_k^*$, $x_a$, $x_b$, $f(x_a)$, $f(x_b)$\n",
    "* **Paso 5:** **if** $f(x_a) > f(x_b)$\n",
    "    * **then** $a = x_a$\n",
    "    * **else** $b = x_b$\n",
    "* **Paso 6:** Incrementar $k = k + 1$\n",
    "* **Paso 7:** **if** $\\vert a-b\\vert > \\epsilon$\n",
    "    * **then** goto Paso 4\n",
    "    * **else** goto Paso 8\n",
    "* **Paso 8:** Imprimir $x_a$ y $f(x_a)$"
   ]
  },
  {
   "cell_type": "markdown",
   "metadata": {},
   "source": [
    "# Método recursivo"
   ]
  },
  {
   "cell_type": "code",
   "execution_count": 6,
   "metadata": {},
   "outputs": [],
   "source": [
    "def Fibonacci(*params):\n",
    "    a   = params[0]\n",
    "    b   = params[1]\n",
    "    k   = params[2]\n",
    "    it  = params[3]\n",
    "    reg = params[4]\n",
    "    L   = params[5]\n",
    "    n   = params[6]\n",
    "    fs  = params[7]\n",
    "    ep  = params[8]\n",
    "\n",
    "    i_arriba = n - k + 1 \n",
    "    i_abajo = n + 1\n",
    "    Lk = L*fs[i_arriba]/fs[i_abajo]\n",
    "\n",
    "    xa = a + Lk\n",
    "    xb = b - Lk\n",
    "\n",
    "    U_xa = U(xa)\n",
    "    U_xb = U(xb)\n",
    "\n",
    "    if(U_xa > U_xb):\n",
    "        a = xa\n",
    "    else:\n",
    "        b = xb\n",
    "        \n",
    "    if(np.abs(U_xa-U_xb) > ep):\n",
    "        k = k + 1\n",
    "        it = it + 1\n",
    "        \n",
    "        reg.append([it, xa, U_xa])\n",
    "        print(\"It: {:02d} - Temp: {:.10f} - Costo: {:.10f}\".format(it, xa, U_xa))\n",
    "    \n",
    "        return Fibonacci(a, b, k, it, reg, L, n, fs, ep)\n",
    "    else:\n",
    "        print(\"-------------------------------------------------------\")\n",
    "        print(\"It: {:02d} - Temp: {:.10f} - Costo: {:.10f}\".format(it, xa, U_xa))\n",
    "        \n",
    "        return reg"
   ]
  },
  {
   "cell_type": "code",
   "execution_count": 7,
   "metadata": {},
   "outputs": [],
   "source": [
    "def RunFibonacci():\n",
    "    n = 30\n",
    "    \n",
    "    fs = [1, 1]\n",
    "    for i in range(n):\n",
    "        aux = fs[-1] + fs[-2]\n",
    "        fs.append(aux)\n",
    "    \n",
    "    a, b, k = 40, 90, 2\n",
    "    L = b - a\n",
    "    \n",
    "    return Fibonacci(a, b, k, 0, [], b-a, n, fs, 1e-6)"
   ]
  },
  {
   "cell_type": "code",
   "execution_count": 8,
   "metadata": {},
   "outputs": [
    {
     "name": "stdout",
     "output_type": "stream",
     "text": [
      "It: 01 - Temp: 59.0983005625 - Costo: 1229.9349491623\n",
      "It: 02 - Temp: 51.8033988750 - Costo: 1228.8272286788\n",
      "It: 03 - Temp: 47.2949016875 - Costo: 1248.2990546850\n",
      "It: 04 - Temp: 51.8033988750 - Costo: 1228.8272286788\n",
      "It: 05 - Temp: 54.5898033750 - Costo: 1225.2438371362\n",
      "It: 06 - Temp: 53.5254915625 - Costo: 1225.9614290233\n",
      "It: 07 - Temp: 54.5898033750 - Costo: 1225.2438371362\n",
      "It: 08 - Temp: 55.2475842500 - Costo: 1225.1741606876\n",
      "It: 09 - Temp: 54.9963343125 - Costo: 1225.1680564661\n",
      "It: 10 - Temp: 54.8410533125 - Costo: 1225.1844049120\n",
      "It: 11 - Temp: 54.9963343125 - Costo: 1225.1680564661\n",
      "It: 12 - Temp: 55.0923032499 - Costo: 1225.1656613366\n",
      "It: 13 - Temp: 55.0556463752 - Costo: 1225.1658840054\n",
      "It: 14 - Temp: 55.0923032499 - Costo: 1225.1656613366\n",
      "It: 15 - Temp: 55.0783015633 - Costo: 1225.1656455603\n",
      "It: 16 - Temp: 55.0696480619 - Costo: 1225.1656981083\n",
      "It: 17 - Temp: 55.0783015633 - Costo: 1225.1656455603\n",
      "It: 18 - Temp: 55.0836497485 - Costo: 1225.1656368837\n",
      "It: 19 - Temp: 55.0816068795 - Costo: 1225.1656380524\n",
      "-------------------------------------------------------\n",
      "It: 19 - Temp: 55.0836497485 - Costo: 1225.1656368837\n"
     ]
    }
   ],
   "source": [
    "reg = RunFibonacci()"
   ]
  },
  {
   "cell_type": "markdown",
   "metadata": {},
   "source": [
    "# Evaluación del método"
   ]
  },
  {
   "cell_type": "code",
   "execution_count": 9,
   "metadata": {},
   "outputs": [],
   "source": [
    "def Evaluacion(reg):\n",
    "    reg1 = np.array(reg)\n",
    "    fig, axs = plt.subplots(1,2, figsize=(15, 4))\n",
    "\n",
    "    fig.suptitle('Convergencia')\n",
    "\n",
    "    axs[0].axhline(55.08, color='k' , linewidth=3, linestyle='--')\n",
    "    axs[0].plot(reg1[:, 0], reg1[:,1], linewidth=4)\n",
    "    axs[0].set_xlabel('Iteraciones')\n",
    "    axs[0].set_ylabel('Temperatura')\n",
    "    axs[0].grid()\n",
    "    axs[0].set_xlim([0, 15])\n",
    "\n",
    "    axs[1].axhline(1225.17, color='k' , linewidth=3, linestyle='--')\n",
    "    axs[1].plot(reg1[:, 0], reg1[:,2], linewidth=4)\n",
    "    axs[1].set_xlabel('Iteraciones')\n",
    "    axs[1].set_ylabel('Costo')\n",
    "    axs[1].grid()\n",
    "    axs[1].set_xlim([0, 15])\n",
    "\n",
    "    plt.show()\n",
    "    \n",
    "    return None"
   ]
  },
  {
   "cell_type": "code",
   "execution_count": 10,
   "metadata": {},
   "outputs": [
    {
     "data": {
      "image/png": "[encoded data removed]",
      "text/plain": [
       "<Figure size 1080x288 with 2 Axes>"
      ]
     },
     "metadata": {
      "needs_background": "light"
     },
     "output_type": "display_data"
    }
   ],
   "source": [
    "Evaluacion(reg)"
   ]
  }
 ],
 "metadata": {
  "kernelspec": {
   "display_name": "Python 3",
   "language": "python",
   "name": "python3"
  },
  "language_info": {
   "codemirror_mode": {
    "name": "ipython",
    "version": 3
   },
   "file_extension": ".py",
   "mimetype": "text/x-python",
   "name": "python",
   "nbconvert_exporter": "python",
   "pygments_lexer": "ipython3",
   "version": "3.7.6"
  }
 },
 "nbformat": 4,
 "nbformat_minor": 4
}
